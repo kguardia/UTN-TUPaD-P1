{
  "cells": [
    {
      "cell_type": "markdown",
      "metadata": {
        "id": "uX4X74Um3dLH"
      },
      "source": [
        "# **OPERADORES RELACIONALES**\n"
      ]
    },
    {
      "cell_type": "markdown",
      "metadata": {
        "id": "deUYXrEj4eSx"
      },
      "source": [
        "Los operadores relacionales se utilizan para comparar dos valores o expresiones en un programa. Permiten establecer una relación entre ellos, determinando si una condición es verdadera o falsa.\n",
        "\n",
        "\n",
        "Los operadores relacionales más comunes son:\n",
        "\n",
        "**Igualdad (==):** Compara si dos valores son iguales.\n",
        "\n",
        "**Desigualdad (!=):** Compara si dos valores son diferentes.\n",
        "\n",
        "**Mayor que (>):** Compara si el valor de la izquierda es mayor que el de la derecha.\n",
        "\n",
        "**Menor que (<):** Compara si el valor de la izquierda es menor que el de la derecha.\n",
        "\n",
        "**Mayor o igual que (>=):** Compara si el valor de la izquierda es mayor o igual al de la derecha.\n",
        "\n",
        "**Menor o igual que (<=):** Compara si el valor de la izquierda es menor o igual al de la derecha.\n",
        "\n",
        "Estos operadores son fundamentales en la toma de decisiones dentro de los programas, especialmente en estructuras condicionales y estructuras repetitivas o bucles, donde se evalúan condiciones para ejecutar diferentes bloques de código según el resultado de la comparación.\n",
        "\n",
        "\n",
        "En la siguiente tabla se puede ver resumida la sintaxis de los operadores relacionales en Python:\n",
        "\n",
        "\n",
        "\n",
        "| Operador | Expresión |    Verdadero cuando...   |\n",
        "|:-------:|:---------:|:------------------------:|\n",
        "|    ==   |   a == b  |      a es igual a b      |\n",
        "|    !=   |   a != b  |    a es distinto de b    |\n",
        "|    <    |   a < b   |     a es menor que b     |\n",
        "|    >    |   a > b   |     a es mayor que b     |\n",
        "|    <=   |   a <= b  | a es menor o igual que b |\n",
        "|    >=   |   a >= b  | a es mayor o igual que b |\n",
        "\n",
        "\n",
        "Es importante remarcar que la ejecución de un operador relacional siempre retornará un booleano.\n"
      ]
    },
    {
      "cell_type": "markdown",
      "metadata": {
        "id": "KMI5NlbMrBqM"
      },
      "source": [
        "## **COMPARACIÓN DE NÚMEROS**\n",
        "\n",
        "Los operadores relacionales suelen utilizarse para comparar dos números. Veamos algunos casos de uso. Para ello, comencemos definiendo dos variables que usaremos en los ejemplos."
      ]
    },
    {
      "cell_type": "code",
      "execution_count": null,
      "metadata": {
        "colab": {
          "background_save": true
        },
        "id": "_d3w527vmTiu"
      },
      "outputs": [],
      "source": [
        "# Definimos las variables a y b\n",
        "a = 2\n",
        "b = 3"
      ]
    },
    {
      "cell_type": "markdown",
      "metadata": {
        "id": "Jq8a-5GGmNp1"
      },
      "source": [
        "### **IGUALDAD**\n"
      ]
    },
    {
      "cell_type": "code",
      "execution_count": null,
      "metadata": {
        "colab": {
          "base_uri": "https://localhost:8080/"
        },
        "id": "OqxyDfyzmNWZ",
        "outputId": "2c7563fe-bd4d-4cfd-dc26-c0448948b08e"
      },
      "outputs": [
        {
          "name": "stdout",
          "output_type": "stream",
          "text": [
            "¿Se cumple que 2 y 3 son iguales?\n",
            "False\n"
          ]
        }
      ],
      "source": [
        "# Definimos la variable igualdad_a_b y almacenamos en ella la relación de igualdad entre a y b.\n",
        "igualdad_a_b = a == b\n",
        "\n",
        "# igualdad_a_b es un booleano que tendrá valor True  si se cumple que a y b son iguales y valor False si dicha condición no se cumple.\n",
        "# Imprimimos su valor por pantalla\n",
        "\n",
        "print(f\"¿Se cumple que {a} y {b} son iguales?\")\n",
        "print(igualdad_a_b)"
      ]
    },
    {
      "cell_type": "markdown",
      "metadata": {
        "id": "wLPcr9K8nJxy"
      },
      "source": [
        "### **DESIGUALDAD**"
      ]
    },
    {
      "cell_type": "code",
      "execution_count": null,
      "metadata": {
        "colab": {
          "base_uri": "https://localhost:8080/"
        },
        "id": "HPEhdqqtnVAR",
        "outputId": "7f14880d-1810-448b-d84b-e7ba5d3af077"
      },
      "outputs": [
        {
          "name": "stdout",
          "output_type": "stream",
          "text": [
            "¿Se cumple que 2 y 3 son distintas?\n",
            "True\n"
          ]
        }
      ],
      "source": [
        "# Definimos la variable desigualdad_a_b y almacenamos en ella la relación de desigualdad entre a y b.\n",
        "desigualdad_a_b = a != b\n",
        "\n",
        "# desigualdad_a_b es un booleano que tendrá valor True si se cumple que a y b son distintas y valor False si dicha condición no se cumple.\n",
        "# Imprimimos su valor por pantalla\n",
        "\n",
        "print(f\"¿Se cumple que {a} y {b} son distintas?\")\n",
        "print(desigualdad_a_b)"
      ]
    },
    {
      "cell_type": "markdown",
      "metadata": {
        "id": "Z0y_Cdc5neuy"
      },
      "source": [
        "### **MAYOR QUE**"
      ]
    },
    {
      "cell_type": "code",
      "execution_count": null,
      "metadata": {
        "colab": {
          "base_uri": "https://localhost:8080/"
        },
        "id": "enugaEbfniOG",
        "outputId": "6ae82328-3219-413e-8d4e-d1877e56b81a"
      },
      "outputs": [
        {
          "name": "stdout",
          "output_type": "stream",
          "text": [
            "¿Se cumple que 2 es mayor que 3?\n",
            "False\n"
          ]
        }
      ],
      "source": [
        "# Definimos la variable a_mayor_que_b y almacenamos en ella la relación correspondiente.\n",
        "a_mayor_que_b = a > b\n",
        "\n",
        "# a_mayor_que_b es un booleano que tendrá valor True si se cumple que a es mayor que b y valor False si dicha condición no se cumple.\n",
        "# Imprimimos su valor por pantalla\n",
        "\n",
        "print(f\"¿Se cumple que {a} es mayor que {b}?\")\n",
        "print(a_mayor_que_b)"
      ]
    },
    {
      "cell_type": "markdown",
      "metadata": {
        "id": "BkqGp9panzCI"
      },
      "source": [
        "### **MENOR QUE**"
      ]
    },
    {
      "cell_type": "code",
      "execution_count": null,
      "metadata": {
        "colab": {
          "base_uri": "https://localhost:8080/"
        },
        "id": "oKXP3zIbnzCJ",
        "outputId": "25d50d28-a1bd-4cc8-e1ec-4ec4d28c739a"
      },
      "outputs": [
        {
          "name": "stdout",
          "output_type": "stream",
          "text": [
            "¿Se cumple que 2 es menor que 3?\n",
            "True\n"
          ]
        }
      ],
      "source": [
        "# Definimos la variable a_menor_que_b y almacenamos en ella la relación correspondiente.\n",
        "a_menor_que_b = a < b\n",
        "\n",
        "# a_menor_que_b es un booleano que tendrá valor True si se cumple que a es menor que b y valor False si dicha condición no se cumple.\n",
        "# Imprimimos su valor por pantalla\n",
        "\n",
        "print(f\"¿Se cumple que {a} es menor que {b}?\")\n",
        "print(a_menor_que_b)"
      ]
    },
    {
      "cell_type": "markdown",
      "metadata": {
        "id": "0aWIjjPj4eS6"
      },
      "source": [
        "## **COMPARACIÓN DE STRINGS**\n",
        "\n",
        "Los operadores relacionales se pueden utilizar también para comparar cadenas de caracteres. En este caso, Python ordena las palabras según el orden en el [código ASCII](https://elcodigoascii.com.ar/). Veamos algunos casos de uso. Para ello, comencemos definiendo dos variables que usaremos en los ejemplos.\n"
      ]
    },
    {
      "cell_type": "code",
      "execution_count": null,
      "metadata": {
        "id": "5OTVyQe6sBrg"
      },
      "outputs": [],
      "source": [
        "c = \"casa\"\n",
        "d = \"perro\"\n",
        "e = \"cebra\"\n",
        "f = \"Casa\""
      ]
    },
    {
      "cell_type": "code",
      "execution_count": null,
      "metadata": {
        "colab": {
          "base_uri": "https://localhost:8080/"
        },
        "id": "CxF8k3lv4eTA",
        "outputId": "52245781-27ba-4847-c07f-9306fc7bd0d8"
      },
      "outputs": [
        {
          "name": "stdout",
          "output_type": "stream",
          "text": [
            "¿Se cumple que casa es menor que perro?\n",
            "True\n"
          ]
        }
      ],
      "source": [
        "# Definimos la variable c_menor_que_d y almacenamos en ella la relación correspondiente.\n",
        "c_menor_que_d = c < d\n",
        "\n",
        "# c_menor_que_d es un booleano que tendrá valor True si se cumple que c es menor que d y valor False si dicha condición no se cumple.\n",
        "# Imprimimos su valor por pantalla\n",
        "\n",
        "print(f\"¿Se cumple que {c} es menor que {d}?\")\n",
        "print(c_menor_que_d)"
      ]
    },
    {
      "cell_type": "markdown",
      "metadata": {
        "id": "4JiYea6JsXUx"
      },
      "source": [
        "En el caso anterior, Python considera que el string \"casa\" es menor que el string \"perro\" ya que la letra \"c\" se encuentra antes en la numeración ASCII que la letra \"p\".\n",
        "\n",
        "Veamos otro ejemplo:"
      ]
    },
    {
      "cell_type": "code",
      "execution_count": null,
      "metadata": {
        "colab": {
          "base_uri": "https://localhost:8080/"
        },
        "id": "tDJDZbDtsW5T",
        "outputId": "33f04588-8b5a-433b-f82b-e6a43aae1ac4"
      },
      "outputs": [
        {
          "name": "stdout",
          "output_type": "stream",
          "text": [
            "¿Se cumple que casa es menor que cebra?\n",
            "True\n"
          ]
        }
      ],
      "source": [
        "# Definimos la variable c_menor_que_e y almacenamos en ella la relación correspondiente.\n",
        "c_menor_que_e = c < e\n",
        "\n",
        "# c_menor_que_d es un booleano que tendrá valor True si se cumple que c es menor que e y valor False si dicha condición no se cumple.\n",
        "# Imprimimos su valor por pantalla\n",
        "\n",
        "print(f\"¿Se cumple que {c} es menor que {e}?\")\n",
        "print(c_menor_que_e)"
      ]
    },
    {
      "cell_type": "markdown",
      "metadata": {
        "id": "7RR52TjntAX5"
      },
      "source": [
        "En el caso anterior, Python considera que el string \"casa\" es menor que el string \"cebra\" ya que al empatar ambos en la posición de su primer caracter (la letra \"c\"), se evalúa el segundo caracter (las letras \"a\" y \"e\", respectivamente).\n",
        "\n",
        "Veamos un último ejemplo:"
      ]
    },
    {
      "cell_type": "code",
      "execution_count": null,
      "metadata": {
        "colab": {
          "base_uri": "https://localhost:8080/"
        },
        "id": "7EXGWwV7tC55",
        "outputId": "3b0d5b2c-75ab-45ac-b346-bbcd4e71605d"
      },
      "outputs": [
        {
          "name": "stdout",
          "output_type": "stream",
          "text": [
            "¿Se cumple que casa es menor que Casa?\n",
            "False\n"
          ]
        }
      ],
      "source": [
        "# Definimos la variable c_menor_que_f y almacenamos en ella la relación correspondiente.\n",
        "c_menor_que_f = c < f\n",
        "\n",
        "# c_menor_que_f es un booleano que tendrá valor True si se cumple que c es menor que f y valor False si dicha condición no se cumple.\n",
        "# Imprimimos su valor por pantalla\n",
        "\n",
        "print(f\"¿Se cumple que {c} es menor que {f}?\")\n",
        "print(c_menor_que_f)"
      ]
    },
    {
      "cell_type": "markdown",
      "metadata": {
        "id": "kxjFXpyvsveN"
      },
      "source": [
        "En el caso anterior, Python considera que el string \"casa\" es mayor que el string \"Casa\" ya que la letra \"C\" (en mayúscula) se encuentra anter que la letra \"c\" (en minúscula) en la numeración ASCII."
      ]
    }
  ],
  "metadata": {
    "colab": {
      "provenance": []
    },
    "kernelspec": {
      "display_name": "Python 3",
      "language": "python",
      "name": "python3"
    },
    "language_info": {
      "codemirror_mode": {
        "name": "ipython",
        "version": 3
      },
      "file_extension": ".py",
      "mimetype": "text/x-python",
      "name": "python",
      "nbconvert_exporter": "python",
      "pygments_lexer": "ipython3",
      "version": "3.7.6"
    }
  },
  "nbformat": 4,
  "nbformat_minor": 0
}
