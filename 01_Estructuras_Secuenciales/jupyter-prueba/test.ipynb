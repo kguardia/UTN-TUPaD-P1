{
 "cells": [
  {
   "cell_type": "code",
   "execution_count": null,
   "id": "269e093a",
   "metadata": {},
   "outputs": [
    {
     "name": "stdout",
     "output_type": "stream",
     "text": [
      "hello world!\n"
     ]
    }
   ],
   "source": [
    "print(\"hello world!\")\n",
    "\n",
    "VARIABLE = 12"
   ]
  },
  {
   "cell_type": "code",
   "execution_count": 4,
   "id": "0210276f",
   "metadata": {},
   "outputs": [
    {
     "name": "stdout",
     "output_type": "stream",
     "text": [
      "13\n"
     ]
    }
   ],
   "source": [
    "VARIABLE = 13\n",
    "print(VARIABLE)"
   ]
  },
  {
   "cell_type": "markdown",
   "id": "cb7ad071",
   "metadata": {},
   "source": [
    "BIENVENIDOS\n",
    "UTN FRSN\n",
    "KAREN GUARDIA"
   ]
  }
 ],
 "metadata": {
  "kernelspec": {
   "display_name": "Python 3",
   "language": "python",
   "name": "python3"
  },
  "language_info": {
   "codemirror_mode": {
    "name": "ipython",
    "version": 3
   },
   "file_extension": ".py",
   "mimetype": "text/x-python",
   "name": "python",
   "nbconvert_exporter": "python",
   "pygments_lexer": "ipython3",
   "version": "3.12.5"
  }
 },
 "nbformat": 4,
 "nbformat_minor": 5
}
